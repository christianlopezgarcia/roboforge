{
 "cells": [
  {
   "cell_type": "code",
   "execution_count": 4,
   "id": "3212cb07",
   "metadata": {},
   "outputs": [
    {
     "name": "stdout",
     "output_type": "stream",
     "text": [
      "Looking in indexes: https://pypi.org/simple, https://www.piwheels.org/simple\n",
      "Requirement already satisfied: adafruit-circuitpython-pca9685 in /home/clopezgarcia2/Desktop/robo_env/lib/python3.11/site-packages (3.4.19)\n",
      "Requirement already satisfied: Adafruit-Blinka in /home/clopezgarcia2/Desktop/robo_env/lib/python3.11/site-packages (from adafruit-circuitpython-pca9685) (8.66.0)\n",
      "Requirement already satisfied: adafruit-circuitpython-register in /home/clopezgarcia2/Desktop/robo_env/lib/python3.11/site-packages (from adafruit-circuitpython-pca9685) (1.10.4)\n",
      "Requirement already satisfied: adafruit-circuitpython-busdevice in /home/clopezgarcia2/Desktop/robo_env/lib/python3.11/site-packages (from adafruit-circuitpython-pca9685) (5.2.13)\n",
      "Requirement already satisfied: Adafruit-PlatformDetect>=3.70.1 in /home/clopezgarcia2/Desktop/robo_env/lib/python3.11/site-packages (from Adafruit-Blinka->adafruit-circuitpython-pca9685) (3.83.1)\n",
      "Requirement already satisfied: Adafruit-PureIO>=1.1.7 in /home/clopezgarcia2/Desktop/robo_env/lib/python3.11/site-packages (from Adafruit-Blinka->adafruit-circuitpython-pca9685) (1.1.11)\n",
      "Requirement already satisfied: binho-host-adapter>=0.1.6 in /home/clopezgarcia2/Desktop/robo_env/lib/python3.11/site-packages (from Adafruit-Blinka->adafruit-circuitpython-pca9685) (0.1.6)\n",
      "Requirement already satisfied: pyftdi>=0.40.0 in /home/clopezgarcia2/Desktop/robo_env/lib/python3.11/site-packages (from Adafruit-Blinka->adafruit-circuitpython-pca9685) (0.57.1)\n",
      "Requirement already satisfied: adafruit-circuitpython-typing in /home/clopezgarcia2/Desktop/robo_env/lib/python3.11/site-packages (from Adafruit-Blinka->adafruit-circuitpython-pca9685) (1.12.2)\n",
      "Requirement already satisfied: sysv_ipc>=1.1.0 in /home/clopezgarcia2/Desktop/robo_env/lib/python3.11/site-packages (from Adafruit-Blinka->adafruit-circuitpython-pca9685) (1.1.0)\n",
      "Requirement already satisfied: rpi_ws281x>=4.0.0 in /home/clopezgarcia2/Desktop/robo_env/lib/python3.11/site-packages (from Adafruit-Blinka->adafruit-circuitpython-pca9685) (5.0.0)\n",
      "Requirement already satisfied: lgpio in /home/clopezgarcia2/Desktop/robo_env/lib/python3.11/site-packages (from Adafruit-Blinka->adafruit-circuitpython-pca9685) (0.2.2.0)\n",
      "Requirement already satisfied: RPi.GPIO in /home/clopezgarcia2/Desktop/robo_env/lib/python3.11/site-packages (from Adafruit-Blinka->adafruit-circuitpython-pca9685) (0.7.1)\n",
      "Requirement already satisfied: Adafruit-Blinka-Raspberry-Pi5-Neopixel in /home/clopezgarcia2/Desktop/robo_env/lib/python3.11/site-packages (from Adafruit-Blinka->adafruit-circuitpython-pca9685) (1.0.0rc2)\n",
      "Requirement already satisfied: typing-extensions~=4.0 in /home/clopezgarcia2/Desktop/robo_env/lib/python3.11/site-packages (from adafruit-circuitpython-register->adafruit-circuitpython-pca9685) (4.15.0)\n",
      "Requirement already satisfied: adafruit-circuitpython-requests in /home/clopezgarcia2/Desktop/robo_env/lib/python3.11/site-packages (from adafruit-circuitpython-typing->Adafruit-Blinka->adafruit-circuitpython-pca9685) (4.1.13)\n",
      "Requirement already satisfied: pyserial in /home/clopezgarcia2/Desktop/robo_env/lib/python3.11/site-packages (from binho-host-adapter>=0.1.6->Adafruit-Blinka->adafruit-circuitpython-pca9685) (3.5)\n",
      "Requirement already satisfied: pyusb!=1.2.0,>=1.0.0 in /home/clopezgarcia2/Desktop/robo_env/lib/python3.11/site-packages (from pyftdi>=0.40.0->Adafruit-Blinka->adafruit-circuitpython-pca9685) (1.3.1)\n",
      "Requirement already satisfied: Adafruit-Circuitpython-ConnectionManager in /home/clopezgarcia2/Desktop/robo_env/lib/python3.11/site-packages (from adafruit-circuitpython-requests->adafruit-circuitpython-typing->Adafruit-Blinka->adafruit-circuitpython-pca9685) (3.1.5)\n",
      "Looking in indexes: https://pypi.org/simple, https://www.piwheels.org/simple\n",
      "Collecting adafruit-circuitpython-motor\n",
      "  Downloading https://www.piwheels.org/simple/adafruit-circuitpython-motor/adafruit_circuitpython_motor-3.4.17-py3-none-any.whl (10 kB)\n",
      "Requirement already satisfied: Adafruit-Blinka>=7.0.0 in /home/clopezgarcia2/Desktop/robo_env/lib/python3.11/site-packages (from adafruit-circuitpython-motor) (8.66.0)\n",
      "Requirement already satisfied: adafruit-circuitpython-typing>=1.5.0 in /home/clopezgarcia2/Desktop/robo_env/lib/python3.11/site-packages (from adafruit-circuitpython-motor) (1.12.2)\n",
      "Requirement already satisfied: Adafruit-PlatformDetect>=3.70.1 in /home/clopezgarcia2/Desktop/robo_env/lib/python3.11/site-packages (from Adafruit-Blinka>=7.0.0->adafruit-circuitpython-motor) (3.83.1)\n",
      "Requirement already satisfied: Adafruit-PureIO>=1.1.7 in /home/clopezgarcia2/Desktop/robo_env/lib/python3.11/site-packages (from Adafruit-Blinka>=7.0.0->adafruit-circuitpython-motor) (1.1.11)\n",
      "Requirement already satisfied: binho-host-adapter>=0.1.6 in /home/clopezgarcia2/Desktop/robo_env/lib/python3.11/site-packages (from Adafruit-Blinka>=7.0.0->adafruit-circuitpython-motor) (0.1.6)\n",
      "Requirement already satisfied: pyftdi>=0.40.0 in /home/clopezgarcia2/Desktop/robo_env/lib/python3.11/site-packages (from Adafruit-Blinka>=7.0.0->adafruit-circuitpython-motor) (0.57.1)\n",
      "Requirement already satisfied: sysv_ipc>=1.1.0 in /home/clopezgarcia2/Desktop/robo_env/lib/python3.11/site-packages (from Adafruit-Blinka>=7.0.0->adafruit-circuitpython-motor) (1.1.0)\n",
      "Requirement already satisfied: rpi_ws281x>=4.0.0 in /home/clopezgarcia2/Desktop/robo_env/lib/python3.11/site-packages (from Adafruit-Blinka>=7.0.0->adafruit-circuitpython-motor) (5.0.0)\n",
      "Requirement already satisfied: lgpio in /home/clopezgarcia2/Desktop/robo_env/lib/python3.11/site-packages (from Adafruit-Blinka>=7.0.0->adafruit-circuitpython-motor) (0.2.2.0)\n",
      "Requirement already satisfied: RPi.GPIO in /home/clopezgarcia2/Desktop/robo_env/lib/python3.11/site-packages (from Adafruit-Blinka>=7.0.0->adafruit-circuitpython-motor) (0.7.1)\n",
      "Requirement already satisfied: Adafruit-Blinka-Raspberry-Pi5-Neopixel in /home/clopezgarcia2/Desktop/robo_env/lib/python3.11/site-packages (from Adafruit-Blinka>=7.0.0->adafruit-circuitpython-motor) (1.0.0rc2)\n",
      "Requirement already satisfied: adafruit-circuitpython-busdevice in /home/clopezgarcia2/Desktop/robo_env/lib/python3.11/site-packages (from adafruit-circuitpython-typing>=1.5.0->adafruit-circuitpython-motor) (5.2.13)\n",
      "Requirement already satisfied: adafruit-circuitpython-requests in /home/clopezgarcia2/Desktop/robo_env/lib/python3.11/site-packages (from adafruit-circuitpython-typing>=1.5.0->adafruit-circuitpython-motor) (4.1.13)\n",
      "Requirement already satisfied: typing_extensions~=4.0 in /home/clopezgarcia2/Desktop/robo_env/lib/python3.11/site-packages (from adafruit-circuitpython-typing>=1.5.0->adafruit-circuitpython-motor) (4.15.0)\n",
      "Requirement already satisfied: pyserial in /home/clopezgarcia2/Desktop/robo_env/lib/python3.11/site-packages (from binho-host-adapter>=0.1.6->Adafruit-Blinka>=7.0.0->adafruit-circuitpython-motor) (3.5)\n",
      "Requirement already satisfied: pyusb!=1.2.0,>=1.0.0 in /home/clopezgarcia2/Desktop/robo_env/lib/python3.11/site-packages (from pyftdi>=0.40.0->Adafruit-Blinka>=7.0.0->adafruit-circuitpython-motor) (1.3.1)\n",
      "Requirement already satisfied: Adafruit-Circuitpython-ConnectionManager in /home/clopezgarcia2/Desktop/robo_env/lib/python3.11/site-packages (from adafruit-circuitpython-requests->adafruit-circuitpython-typing>=1.5.0->adafruit-circuitpython-motor) (3.1.5)\n",
      "Installing collected packages: adafruit-circuitpython-motor\n",
      "Successfully installed adafruit-circuitpython-motor-3.4.17\n",
      "Package                                  Version\n",
      "---------------------------------------- -----------\n",
      "Adafruit-Blinka                          8.66.0\n",
      "Adafruit-Blinka-Raspberry-Pi5-Neopixel   1.0.0rc2\n",
      "adafruit-circuitpython-busdevice         5.2.13\n",
      "adafruit-circuitpython-connectionmanager 3.1.5\n",
      "adafruit-circuitpython-motor             3.4.17\n",
      "adafruit-circuitpython-pca9685           3.4.19\n",
      "adafruit-circuitpython-register          1.10.4\n",
      "adafruit-circuitpython-requests          4.1.13\n",
      "adafruit-circuitpython-typing            1.12.2\n",
      "Adafruit-PlatformDetect                  3.83.1\n",
      "Adafruit-PureIO                          1.1.11\n",
      "asttokens                                3.0.0\n",
      "binho-host-adapter                       0.1.6\n",
      "colorzero                                2.0\n",
      "comm                                     0.2.3\n",
      "debugpy                                  1.8.16\n",
      "decorator                                5.2.1\n",
      "executing                                2.2.1\n",
      "gpiozero                                 2.0.1\n",
      "ipykernel                                6.30.1\n",
      "ipython                                  9.5.0\n",
      "ipython_pygments_lexers                  1.1.1\n",
      "jedi                                     0.19.2\n",
      "jupyter_client                           8.6.3\n",
      "jupyter_core                             5.8.1\n",
      "lgpio                                    0.2.2.0\n",
      "matplotlib-inline                        0.1.7\n",
      "nest_asyncio                             1.6.0\n",
      "numpy                                    2.2.6\n",
      "opencv-python                            4.12.0.88\n",
      "packaging                                25.0\n",
      "parso                                    0.8.5\n",
      "pexpect                                  4.9.0\n",
      "pigpio                                   1.78\n",
      "pip                                      23.0.1\n",
      "platformdirs                             4.4.0\n",
      "prompt_toolkit                           3.0.52\n",
      "psutil                                   7.0.0\n",
      "ptyprocess                               0.7.0\n",
      "pure_eval                                0.2.3\n",
      "pyftdi                                   0.57.1\n",
      "Pygments                                 2.19.2\n",
      "pyserial                                 3.5\n",
      "python-dateutil                          2.9.0.post0\n",
      "pyusb                                    1.3.1\n",
      "pyzmq                                    27.0.2\n",
      "RPi.GPIO                                 0.7.1\n",
      "rpi-ws281x                               5.0.0\n",
      "setuptools                               66.1.1\n",
      "six                                      1.17.0\n",
      "stack-data                               0.6.3\n",
      "sysv-ipc                                 1.1.0\n",
      "tornado                                  6.5.2\n",
      "traitlets                                5.14.3\n",
      "typing_extensions                        4.15.0\n",
      "wcwidth                                  0.2.13\n"
     ]
    }
   ],
   "source": [
    "!pip install adafruit-circuitpython-pca9685\n",
    "!pip install adafruit-circuitpython-motor\n",
    "!pip list"
   ]
  },
  {
   "cell_type": "code",
   "execution_count": 1,
   "id": "ce65a178",
   "metadata": {},
   "outputs": [
    {
     "name": "stdout",
     "output_type": "stream",
     "text": [
      "Moving servo on channel 15...\n"
     ]
    },
    {
     "ename": "KeyboardInterrupt",
     "evalue": "",
     "output_type": "error",
     "traceback": [
      "\u001b[31m---------------------------------------------------------------------------\u001b[39m",
      "\u001b[31mKeyboardInterrupt\u001b[39m                         Traceback (most recent call last)",
      "\u001b[36mCell\u001b[39m\u001b[36m \u001b[39m\u001b[32mIn[1]\u001b[39m\u001b[32m, line 26\u001b[39m\n\u001b[32m     24\u001b[39m time.sleep(\u001b[32m1\u001b[39m)\n\u001b[32m     25\u001b[39m my_servo.angle = \u001b[32m90\u001b[39m   \u001b[38;5;66;03m# Move to 90 degrees\u001b[39;00m\n\u001b[32m---> \u001b[39m\u001b[32m26\u001b[39m time.sleep(\u001b[32m1\u001b[39m)\n\u001b[32m     27\u001b[39m my_servo.angle = \u001b[32m180\u001b[39m  \u001b[38;5;66;03m# Move to 180 degrees\u001b[39;00m\n\u001b[32m     28\u001b[39m time.sleep(\u001b[32m1\u001b[39m)\n",
      "\u001b[31mKeyboardInterrupt\u001b[39m: "
     ]
    }
   ],
   "source": [
    "# Install dependencies if you haven’t already:\n",
    "# pip install adafruit-circuitpython-pca9685\n",
    "\n",
    "import time\n",
    "import board\n",
    "import busio\n",
    "from adafruit_pca9685 import PCA9685\n",
    "from adafruit_motor import servo\n",
    "\n",
    "# Create I2C bus interface\n",
    "i2c = busio.I2C(board.SCL, board.SDA)\n",
    "\n",
    "# Create a PCA9685 object\n",
    "pca = PCA9685(i2c)\n",
    "pca.frequency = 50  # Typical servo frequency (50Hz)\n",
    "\n",
    "# Create a servo object on channel 15 (last pin)\n",
    "my_servo = servo.Servo(pca.channels[15])\n",
    "\n",
    "# Move the servo back and forth\n",
    "print(\"Moving servo on channel 15...\")\n",
    "while True:\n",
    "    my_servo.angle = 0    # Move to 0 degrees\n",
    "    time.sleep(1)\n",
    "    my_servo.angle = 90   # Move to 90 degrees\n",
    "    time.sleep(1)\n",
    "    my_servo.angle = 180  # Move to 180 degrees\n",
    "    time.sleep(1)\n"
   ]
  },
  {
   "cell_type": "code",
   "execution_count": null,
   "id": "0de1891f",
   "metadata": {},
   "outputs": [
    {
     "name": "stdout",
     "output_type": "stream",
     "text": [
      "Looking in indexes: https://pypi.org/simple, https://www.piwheels.org/simple\n",
      "Collecting adafruit-circuitpython-servokit\n",
      "  Downloading https://archive1.piwheels.org/simple/adafruit-circuitpython-servokit/adafruit_circuitpython_servokit-1.3.21-py3-none-any.whl (5.7 kB)\n",
      "Requirement already satisfied: Adafruit-Blinka>=7.0.0 in /home/clopezgarcia2/Desktop/robo_env/lib/python3.11/site-packages (from adafruit-circuitpython-servokit) (8.66.0)\n",
      "Requirement already satisfied: adafruit-circuitpython-busdevice in /home/clopezgarcia2/Desktop/robo_env/lib/python3.11/site-packages (from adafruit-circuitpython-servokit) (5.2.13)\n",
      "Requirement already satisfied: adafruit-circuitpython-pca9685 in /home/clopezgarcia2/Desktop/robo_env/lib/python3.11/site-packages (from adafruit-circuitpython-servokit) (3.4.19)\n",
      "Requirement already satisfied: adafruit-circuitpython-motor in /home/clopezgarcia2/Desktop/robo_env/lib/python3.11/site-packages (from adafruit-circuitpython-servokit) (3.4.17)\n",
      "Requirement already satisfied: adafruit-circuitpython-register in /home/clopezgarcia2/Desktop/robo_env/lib/python3.11/site-packages (from adafruit-circuitpython-servokit) (1.10.4)\n",
      "Requirement already satisfied: Adafruit-PlatformDetect>=3.70.1 in /home/clopezgarcia2/Desktop/robo_env/lib/python3.11/site-packages (from Adafruit-Blinka>=7.0.0->adafruit-circuitpython-servokit) (3.83.1)\n",
      "Requirement already satisfied: Adafruit-PureIO>=1.1.7 in /home/clopezgarcia2/Desktop/robo_env/lib/python3.11/site-packages (from Adafruit-Blinka>=7.0.0->adafruit-circuitpython-servokit) (1.1.11)\n",
      "Requirement already satisfied: binho-host-adapter>=0.1.6 in /home/clopezgarcia2/Desktop/robo_env/lib/python3.11/site-packages (from Adafruit-Blinka>=7.0.0->adafruit-circuitpython-servokit) (0.1.6)\n",
      "Requirement already satisfied: pyftdi>=0.40.0 in /home/clopezgarcia2/Desktop/robo_env/lib/python3.11/site-packages (from Adafruit-Blinka>=7.0.0->adafruit-circuitpython-servokit) (0.57.1)\n",
      "Requirement already satisfied: adafruit-circuitpython-typing in /home/clopezgarcia2/Desktop/robo_env/lib/python3.11/site-packages (from Adafruit-Blinka>=7.0.0->adafruit-circuitpython-servokit) (1.12.2)\n",
      "Requirement already satisfied: sysv_ipc>=1.1.0 in /home/clopezgarcia2/Desktop/robo_env/lib/python3.11/site-packages (from Adafruit-Blinka>=7.0.0->adafruit-circuitpython-servokit) (1.1.0)\n",
      "Requirement already satisfied: rpi_ws281x>=4.0.0 in /home/clopezgarcia2/Desktop/robo_env/lib/python3.11/site-packages (from Adafruit-Blinka>=7.0.0->adafruit-circuitpython-servokit) (5.0.0)\n",
      "Requirement already satisfied: lgpio in /home/clopezgarcia2/Desktop/robo_env/lib/python3.11/site-packages (from Adafruit-Blinka>=7.0.0->adafruit-circuitpython-servokit) (0.2.2.0)\n",
      "Requirement already satisfied: RPi.GPIO in /home/clopezgarcia2/Desktop/robo_env/lib/python3.11/site-packages (from Adafruit-Blinka>=7.0.0->adafruit-circuitpython-servokit) (0.7.1)\n",
      "Requirement already satisfied: Adafruit-Blinka-Raspberry-Pi5-Neopixel in /home/clopezgarcia2/Desktop/robo_env/lib/python3.11/site-packages (from Adafruit-Blinka>=7.0.0->adafruit-circuitpython-servokit) (1.0.0rc2)\n",
      "Requirement already satisfied: typing-extensions~=4.0 in /home/clopezgarcia2/Desktop/robo_env/lib/python3.11/site-packages (from adafruit-circuitpython-register->adafruit-circuitpython-servokit) (4.15.0)\n",
      "Requirement already satisfied: adafruit-circuitpython-requests in /home/clopezgarcia2/Desktop/robo_env/lib/python3.11/site-packages (from adafruit-circuitpython-typing->Adafruit-Blinka>=7.0.0->adafruit-circuitpython-servokit) (4.1.13)\n",
      "Requirement already satisfied: pyserial in /home/clopezgarcia2/Desktop/robo_env/lib/python3.11/site-packages (from binho-host-adapter>=0.1.6->Adafruit-Blinka>=7.0.0->adafruit-circuitpython-servokit) (3.5)\n",
      "Requirement already satisfied: pyusb!=1.2.0,>=1.0.0 in /home/clopezgarcia2/Desktop/robo_env/lib/python3.11/site-packages (from pyftdi>=0.40.0->Adafruit-Blinka>=7.0.0->adafruit-circuitpython-servokit) (1.3.1)\n",
      "Requirement already satisfied: Adafruit-Circuitpython-ConnectionManager in /home/clopezgarcia2/Desktop/robo_env/lib/python3.11/site-packages (from adafruit-circuitpython-requests->adafruit-circuitpython-typing->Adafruit-Blinka>=7.0.0->adafruit-circuitpython-servokit) (3.1.5)\n",
      "Installing collected packages: adafruit-circuitpython-servokit\n",
      "Successfully installed adafruit-circuitpython-servokit-1.3.21\n"
     ]
    }
   ],
   "source": [
    "!pip install adafruit-circuitpython-servokit\n"
   ]
  },
  {
   "cell_type": "code",
   "execution_count": 1,
   "id": "7c6fc882",
   "metadata": {},
   "outputs": [],
   "source": [
    "# https://docs.circuitpython.org/projects/servokit/en/latest/\n",
    "import time\n",
    "from adafruit_servokit import ServoKit\n",
    "\n",
    "# 16 channels for full PCA9685 board\n",
    "kit = ServoKit(channels=8)\n",
    "\n",
    "# Move servo on last channel (15)\n",
    "kit.servo[6].angle = 180\n",
    "kit.continuous_servo[1].throttle = 1\n",
    "\n",
    "time.sleep(1)\n",
    "kit.continuous_servo[1].throttle = -1\n",
    "kit.servo[6].angle = 0\n",
    "time.sleep(1)\n",
    "kit.continuous_servo[1].throttle = 0\n"
   ]
  },
  {
   "cell_type": "code",
   "execution_count": 6,
   "id": "ae118c86",
   "metadata": {},
   "outputs": [],
   "source": [
    "import time\n",
    "from adafruit_servokit import ServoKit\n",
    "\n",
    "# Full 16-channel PCA9685\n",
    "kit = ServoKit(channels=16)\n",
    "\n",
    "# Last pin = channel 15 (not 6)\n",
    "myservo = 8\n",
    "kit.servo[myservo].angle = 180\n",
    "time.sleep(1)\n",
    "\n",
    "# Example: run continuous servo briefly, the n stop\n",
    "kit.continuous_servo[1].throttle = 1   # full speed forward\n",
    "time.sleep(1)\n",
    "kit.continuous_servo[1].throttle = -1  # full speed reverse\n",
    "time.sleep(1)\n",
    "kit.continuous_servo[1].throttle = 0   # stop (hold)\n",
    "# or: kit.continuous_servo[1].throttle = None  # stop (release completely)\n",
    "\n",
    "# Reset last pin servo\n",
    "kit.servo[myservo].angle = 0\n",
    "time.sleep(1)\n"
   ]
  },
  {
   "cell_type": "code",
   "execution_count": 44,
   "id": "163a7b57",
   "metadata": {},
   "outputs": [
    {
     "name": "stdout",
     "output_type": "stream",
     "text": [
      "Sweeping servo on channel 0\n"
     ]
    },
    {
     "name": "stdout",
     "output_type": "stream",
     "text": [
      "Sweeping servo on channel 1\n",
      "Sweeping servo on channel 2\n",
      "Testing continuous servo on channel 1\n"
     ]
    },
    {
     "ename": "ValueError",
     "evalue": "Channel 1 is already in use.",
     "output_type": "error",
     "traceback": [
      "\u001b[31m---------------------------------------------------------------------------\u001b[39m",
      "\u001b[31mValueError\u001b[39m                                Traceback (most recent call last)",
      "\u001b[36mCell\u001b[39m\u001b[36m \u001b[39m\u001b[32mIn[44]\u001b[39m\u001b[32m, line 23\u001b[39m\n\u001b[32m     21\u001b[39m \u001b[38;5;66;03m# Example: run continuous servo briefly, then stop\u001b[39;00m\n\u001b[32m     22\u001b[39m \u001b[38;5;28mprint\u001b[39m(\u001b[33m\"\u001b[39m\u001b[33mTesting continuous servo on channel 1\u001b[39m\u001b[33m\"\u001b[39m)\n\u001b[32m---> \u001b[39m\u001b[32m23\u001b[39m \u001b[43mkit\u001b[49m\u001b[43m.\u001b[49m\u001b[43mcontinuous_servo\u001b[49m\u001b[43m[\u001b[49m\u001b[32;43m1\u001b[39;49m\u001b[43m]\u001b[49m.throttle = \u001b[32m1\u001b[39m   \u001b[38;5;66;03m# forward\u001b[39;00m\n\u001b[32m     24\u001b[39m time.sleep(\u001b[32m1\u001b[39m)\n\u001b[32m     25\u001b[39m kit.continuous_servo[\u001b[32m1\u001b[39m].throttle = -\u001b[32m1\u001b[39m  \u001b[38;5;66;03m# reverse\u001b[39;00m\n",
      "\u001b[36mFile \u001b[39m\u001b[32m~/Desktop/robo_env/lib/python3.11/site-packages/adafruit_servokit.py:182\u001b[39m, in \u001b[36m_ContinuousServo.__getitem__\u001b[39m\u001b[34m(self, servo_channel)\u001b[39m\n\u001b[32m    180\u001b[39m \u001b[38;5;28;01mif\u001b[39;00m \u001b[38;5;28misinstance\u001b[39m(\u001b[38;5;28mself\u001b[39m.kit._items[servo_channel], adafruit_motor.servo.ContinuousServo):\n\u001b[32m    181\u001b[39m     \u001b[38;5;28;01mreturn\u001b[39;00m servo\n\u001b[32m--> \u001b[39m\u001b[32m182\u001b[39m \u001b[38;5;28;01mraise\u001b[39;00m \u001b[38;5;167;01mValueError\u001b[39;00m(\u001b[33mf\u001b[39m\u001b[33m\"\u001b[39m\u001b[33mChannel \u001b[39m\u001b[38;5;132;01m{\u001b[39;00mservo_channel\u001b[38;5;132;01m}\u001b[39;00m\u001b[33m is already in use.\u001b[39m\u001b[33m\"\u001b[39m)\n",
      "\u001b[31mValueError\u001b[39m: Channel 1 is already in use."
     ]
    }
   ],
   "source": [
    "import time\n",
    "from adafruit_servokit import ServoKit\n",
    "\n",
    "# Full 16-channel PCA9685\n",
    "kit = ServoKit(channels=16)\n",
    "\n",
    "# Test servos on pins 1, 2, 3\n",
    "for ch in [0,1,2]:\n",
    "    print(f\"Sweeping servo on channel {ch}\")\n",
    "    kit.servo[ch].angle = 0\n",
    "    time.sleep(1)\n",
    "    kit.servo[ch].angle = 90\n",
    "    time.sleep(1)\n",
    "    kit.servo[ch].angle = 180\n",
    "    time.sleep(1)\n",
    "    kit.servo[ch].angle = 90\n",
    "    time.sleep(1)\n",
    "    kit.servo[ch].angle = 0\n",
    "    time.sleep(1)\n",
    "\n",
    "# Example: run continuous servo briefly, then stop\n",
    "print(\"Testing continuous servo on channel 1\")\n",
    "kit.continuous_servo[1].throttle = 1   # forward\n",
    "time.sleep(1)\n",
    "kit.continuous_servo[1].throttle = -1  # reverse\n",
    "time.sleep(1)\n",
    "kit.continuous_servo[1].throttle = 0   # stop (hold)\n",
    "# or: kit.continuous_servo[1].throttle = None  # stop (release)\n"
   ]
  },
  {
   "cell_type": "code",
   "execution_count": 88,
   "id": "da523c49",
   "metadata": {},
   "outputs": [
    {
     "name": "stdout",
     "output_type": "stream",
     "text": [
      "Sweeping standard servo on channel 1\n"
     ]
    },
    {
     "name": "stdout",
     "output_type": "stream",
     "text": [
      "Sweeping standard servo on channel 2\n",
      "Sweeping standard servo on channel 3\n"
     ]
    }
   ],
   "source": [
    "import time\n",
    "from adafruit_servokit import ServoKit\n",
    "\n",
    "kit = ServoKit(channels=16)\n",
    "\n",
    "# Test standard RC servos on channels 1, 2, 3\n",
    "for ch in [1, 2, 3]:\n",
    "    print(f\"Sweeping standard servo on channel {ch}\")\n",
    "    kit.servo[ch].angle = 0\n",
    "    time.sleep(1)\n",
    "    kit.servo[ch].angle = 90\n",
    "    time.sleep(1)\n",
    "    kit.servo[ch].angle = 180\n",
    "    time.sleep(1)\n",
    "    kit.servo[ch].angle = 90\n",
    "    time.sleep(1)\n",
    "    kit.servo[ch].angle = 0\n",
    "    time.sleep(1)\n",
    "\n",
    "# # Test bigger continuous servos / motor drivers on channels 14, 15\n",
    "# for ch in [14, 15]:\n",
    "#     print(f\"Testing continuous servo (motor) on channel {ch}\")\n",
    "#     kit.continuous_servo[ch].throttle = 1   # full forward\n",
    "#     time.sleep(1)\n",
    "#     kit.continuous_servo[ch].throttle = -1  # full reverse\n",
    "#     time.sleep(1)\n",
    "#     kit.continuous_servo[ch].throttle = 0   # stop (hold)\n",
    "#     # or None for release\n",
    "#     time.sleep(1)\n"
   ]
  },
  {
   "cell_type": "code",
   "execution_count": 89,
   "id": "c4ac894a",
   "metadata": {},
   "outputs": [
    {
     "name": "stdout",
     "output_type": "stream",
     "text": [
      "✅ All channels reset to neutral/off\n"
     ]
    }
   ],
   "source": [
    "import time\n",
    "from adafruit_servokit import ServoKit\n",
    "\n",
    "kit = ServoKit(channels=16)\n",
    "\n",
    "\n",
    "mapp = {0:0,1:130,2:125}\n",
    "# Reset all standard servos\n",
    "for ch in range(3):\n",
    "    try:\n",
    "        kit.servo[ch].angle = mapp[ch]  # release (no signal)\n",
    "    except Exception:\n",
    "        pass\n",
    "\n",
    "# Reset all continuous servos\n",
    "for ch in range(16):\n",
    "    try:\n",
    "        kit.continuous_servo[ch].throttle = 0  # stop\n",
    "        time.sleep(0)\n",
    "\n",
    "        # or use None to release completely\n",
    "    except Exception:\n",
    "        pass\n",
    "\n",
    "print(\"✅ All channels reset to neutral/off\")\n"
   ]
  },
  {
   "cell_type": "code",
   "execution_count": 87,
   "id": "0be8c3f4",
   "metadata": {},
   "outputs": [
    {
     "name": "stdout",
     "output_type": "stream",
     "text": [
      "{0: -0.36600244001626675, 1: 129.63806425376168, 2: 124.95323302155349}\n"
     ]
    }
   ],
   "source": [
    "from adafruit_servokit import ServoKit\n",
    "\n",
    "kit = ServoKit(channels=16)\n",
    "\n",
    "# Dictionary to store last commanded positions\n",
    "positions = {}\n",
    "\n",
    "for ch in range(3):\n",
    "    try:\n",
    "        positions[ch] = kit.servo[ch].angle  # This is last set angle\n",
    "    except Exception:\n",
    "        positions[ch] = None\n",
    "\n",
    "print(positions)\n"
   ]
  },
  {
   "cell_type": "code",
   "execution_count": null,
   "id": "331fc0e0",
   "metadata": {},
   "outputs": [
    {
     "name": "stdout",
     "output_type": "stream",
     "text": [
      "{0: 180.0, 1: 180.0, 2: 180.0, 3: 180.0, 4: 180.0, 5: 180.0, 6: 180.0, 7: 180.0, 8: 180.0, 9: 180.0, 10: 180.0, 11: 180.0, 12: 180.0, 13: 180.0, 14: 180.0, 15: 180.0}\n"
     ]
    }
   ],
   "source": []
  },
  {
   "cell_type": "code",
   "execution_count": null,
   "id": "89c51884",
   "metadata": {},
   "outputs": [],
   "source": []
  }
 ],
 "metadata": {
  "kernelspec": {
   "display_name": "robo_env",
   "language": "python",
   "name": "python3"
  },
  "language_info": {
   "codemirror_mode": {
    "name": "ipython",
    "version": 3
   },
   "file_extension": ".py",
   "mimetype": "text/x-python",
   "name": "python",
   "nbconvert_exporter": "python",
   "pygments_lexer": "ipython3",
   "version": "3.11.2"
  }
 },
 "nbformat": 4,
 "nbformat_minor": 5
}
